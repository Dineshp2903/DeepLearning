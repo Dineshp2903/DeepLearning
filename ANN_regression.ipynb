{
 "cells": [
  {
   "cell_type": "code",
   "execution_count": 30,
   "metadata": {},
   "outputs": [],
   "source": [
    "### Import Libraries\n",
    "import pandas as pd\n",
    "import numpy as np\n",
    "import matplotlib.pyplot as plt"
   ]
  },
  {
   "cell_type": "code",
   "execution_count": 2,
   "metadata": {},
   "outputs": [],
   "source": [
    "df = pd.read_csv(\"winequality-red.csv\")"
   ]
  },
  {
   "cell_type": "code",
   "execution_count": 3,
   "metadata": {},
   "outputs": [
    {
     "data": {
      "text/html": [
       "<div>\n",
       "<style scoped>\n",
       "    .dataframe tbody tr th:only-of-type {\n",
       "        vertical-align: middle;\n",
       "    }\n",
       "\n",
       "    .dataframe tbody tr th {\n",
       "        vertical-align: top;\n",
       "    }\n",
       "\n",
       "    .dataframe thead th {\n",
       "        text-align: right;\n",
       "    }\n",
       "</style>\n",
       "<table border=\"1\" class=\"dataframe\">\n",
       "  <thead>\n",
       "    <tr style=\"text-align: right;\">\n",
       "      <th></th>\n",
       "      <th>fixed acidity</th>\n",
       "      <th>volatile acidity</th>\n",
       "      <th>citric acid</th>\n",
       "      <th>residual sugar</th>\n",
       "      <th>chlorides</th>\n",
       "      <th>free sulfur dioxide</th>\n",
       "      <th>total sulfur dioxide</th>\n",
       "      <th>density</th>\n",
       "      <th>pH</th>\n",
       "      <th>sulphates</th>\n",
       "      <th>alcohol</th>\n",
       "      <th>quality</th>\n",
       "    </tr>\n",
       "  </thead>\n",
       "  <tbody>\n",
       "    <tr>\n",
       "      <th>0</th>\n",
       "      <td>7.4</td>\n",
       "      <td>0.70</td>\n",
       "      <td>0.00</td>\n",
       "      <td>1.9</td>\n",
       "      <td>0.076</td>\n",
       "      <td>11.0</td>\n",
       "      <td>34.0</td>\n",
       "      <td>0.9978</td>\n",
       "      <td>3.51</td>\n",
       "      <td>0.56</td>\n",
       "      <td>9.4</td>\n",
       "      <td>5</td>\n",
       "    </tr>\n",
       "    <tr>\n",
       "      <th>1</th>\n",
       "      <td>7.8</td>\n",
       "      <td>0.88</td>\n",
       "      <td>0.00</td>\n",
       "      <td>2.6</td>\n",
       "      <td>0.098</td>\n",
       "      <td>25.0</td>\n",
       "      <td>67.0</td>\n",
       "      <td>0.9968</td>\n",
       "      <td>3.20</td>\n",
       "      <td>0.68</td>\n",
       "      <td>9.8</td>\n",
       "      <td>5</td>\n",
       "    </tr>\n",
       "    <tr>\n",
       "      <th>2</th>\n",
       "      <td>7.8</td>\n",
       "      <td>0.76</td>\n",
       "      <td>0.04</td>\n",
       "      <td>2.3</td>\n",
       "      <td>0.092</td>\n",
       "      <td>15.0</td>\n",
       "      <td>54.0</td>\n",
       "      <td>0.9970</td>\n",
       "      <td>3.26</td>\n",
       "      <td>0.65</td>\n",
       "      <td>9.8</td>\n",
       "      <td>5</td>\n",
       "    </tr>\n",
       "    <tr>\n",
       "      <th>3</th>\n",
       "      <td>11.2</td>\n",
       "      <td>0.28</td>\n",
       "      <td>0.56</td>\n",
       "      <td>1.9</td>\n",
       "      <td>0.075</td>\n",
       "      <td>17.0</td>\n",
       "      <td>60.0</td>\n",
       "      <td>0.9980</td>\n",
       "      <td>3.16</td>\n",
       "      <td>0.58</td>\n",
       "      <td>9.8</td>\n",
       "      <td>6</td>\n",
       "    </tr>\n",
       "    <tr>\n",
       "      <th>4</th>\n",
       "      <td>7.4</td>\n",
       "      <td>0.70</td>\n",
       "      <td>0.00</td>\n",
       "      <td>1.9</td>\n",
       "      <td>0.076</td>\n",
       "      <td>11.0</td>\n",
       "      <td>34.0</td>\n",
       "      <td>0.9978</td>\n",
       "      <td>3.51</td>\n",
       "      <td>0.56</td>\n",
       "      <td>9.4</td>\n",
       "      <td>5</td>\n",
       "    </tr>\n",
       "  </tbody>\n",
       "</table>\n",
       "</div>"
      ],
      "text/plain": [
       "   fixed acidity  volatile acidity  citric acid  residual sugar  chlorides  \\\n",
       "0            7.4              0.70         0.00             1.9      0.076   \n",
       "1            7.8              0.88         0.00             2.6      0.098   \n",
       "2            7.8              0.76         0.04             2.3      0.092   \n",
       "3           11.2              0.28         0.56             1.9      0.075   \n",
       "4            7.4              0.70         0.00             1.9      0.076   \n",
       "\n",
       "   free sulfur dioxide  total sulfur dioxide  density    pH  sulphates  \\\n",
       "0                 11.0                  34.0   0.9978  3.51       0.56   \n",
       "1                 25.0                  67.0   0.9968  3.20       0.68   \n",
       "2                 15.0                  54.0   0.9970  3.26       0.65   \n",
       "3                 17.0                  60.0   0.9980  3.16       0.58   \n",
       "4                 11.0                  34.0   0.9978  3.51       0.56   \n",
       "\n",
       "   alcohol  quality  \n",
       "0      9.4        5  \n",
       "1      9.8        5  \n",
       "2      9.8        5  \n",
       "3      9.8        6  \n",
       "4      9.4        5  "
      ]
     },
     "execution_count": 3,
     "metadata": {},
     "output_type": "execute_result"
    }
   ],
   "source": [
    "df.head()"
   ]
  },
  {
   "cell_type": "code",
   "execution_count": 4,
   "metadata": {},
   "outputs": [
    {
     "data": {
      "text/plain": [
       "fixed acidity           0\n",
       "volatile acidity        0\n",
       "citric acid             0\n",
       "residual sugar          0\n",
       "chlorides               0\n",
       "free sulfur dioxide     0\n",
       "total sulfur dioxide    0\n",
       "density                 0\n",
       "pH                      0\n",
       "sulphates               0\n",
       "alcohol                 0\n",
       "quality                 0\n",
       "dtype: int64"
      ]
     },
     "execution_count": 4,
     "metadata": {},
     "output_type": "execute_result"
    }
   ],
   "source": [
    "df.isnull().sum()"
   ]
  },
  {
   "cell_type": "code",
   "execution_count": 7,
   "metadata": {},
   "outputs": [],
   "source": [
    "x = df.iloc[:,0:-1]\n",
    "y = df.iloc[:,-1]"
   ]
  },
  {
   "cell_type": "code",
   "execution_count": 10,
   "metadata": {},
   "outputs": [],
   "source": [
    "from sklearn.model_selection import train_test_split\n",
    "x_train,x_test,y_train,y_test = train_test_split(x,y,random_state = 0)"
   ]
  },
  {
   "cell_type": "code",
   "execution_count": 20,
   "metadata": {},
   "outputs": [
    {
     "data": {
      "text/plain": [
       "(1599, 11)"
      ]
     },
     "execution_count": 20,
     "metadata": {},
     "output_type": "execute_result"
    }
   ],
   "source": [
    "x.shape"
   ]
  },
  {
   "cell_type": "code",
   "execution_count": 15,
   "metadata": {},
   "outputs": [
    {
     "data": {
      "text/plain": [
       "array([[ 1.41838781, -0.32925509,  0.81733691, ..., -0.90034808,\n",
       "         0.57260597,  0.36996154],\n",
       "       [-0.13713469,  1.57906477, -1.39354657, ...,  0.3314596 ,\n",
       "        -0.72822233, -0.75660071],\n",
       "       [ 0.43898476, -1.31067673,  0.30317796, ..., -0.31686023,\n",
       "         1.02506798,  1.21488322],\n",
       "       ...,\n",
       "       [-0.59803024, -0.90175105,  1.12583228, ...,  0.3314596 ,\n",
       "         0.68572147,  0.55772191],\n",
       "       [ 4.18376113,  0.84299854,  2.51406145, ..., -2.3266517 ,\n",
       "         0.12014395,  0.74548229],\n",
       "       [-0.42519441, -0.54734879,  0.09751438, ...,  0.59078753,\n",
       "        -0.10608706, -0.85048089]])"
      ]
     },
     "execution_count": 15,
     "metadata": {},
     "output_type": "execute_result"
    }
   ],
   "source": [
    "###Feature Scaling\n",
    "from sklearn.preprocessing import StandardScaler\n",
    "scaler = StandardScaler()\n",
    "scaler.fit_transform(x_train)\n",
    "scaler.transform(x_test)"
   ]
  },
  {
   "cell_type": "code",
   "execution_count": null,
   "metadata": {},
   "outputs": [],
   "source": []
  },
  {
   "cell_type": "code",
   "execution_count": 16,
   "metadata": {},
   "outputs": [],
   "source": [
    "#### ANN Libraries"
   ]
  },
  {
   "cell_type": "code",
   "execution_count": 17,
   "metadata": {},
   "outputs": [],
   "source": [
    "import keras\n",
    "from keras.models import Sequential\n",
    "from keras.layers import Dense\n",
    "from keras.layers import LeakyReLU,ReLU,PReLU,ELU\n",
    "from keras.layers import Dropout"
   ]
  },
  {
   "cell_type": "code",
   "execution_count": 18,
   "metadata": {},
   "outputs": [],
   "source": [
    "seq = Sequential()\n"
   ]
  },
  {
   "cell_type": "code",
   "execution_count": 21,
   "metadata": {},
   "outputs": [],
   "source": [
    "seq.add(Dense(units = 6 , kernel_initializer = \"random_normal\", activation=\"relu\",input_dim = 11))"
   ]
  },
  {
   "cell_type": "code",
   "execution_count": 22,
   "metadata": {},
   "outputs": [],
   "source": [
    "### Adding Hidden Layer\n",
    "seq.add(Dense(units = 6,kernel_initializer = 'random_normal',activation = 'relu'))"
   ]
  },
  {
   "cell_type": "code",
   "execution_count": 24,
   "metadata": {},
   "outputs": [],
   "source": [
    "###Output Layer\n",
    "seq.add(Dense(units=1,kernel_initializer = 'glorot_uniform',activation='relu'))"
   ]
  },
  {
   "cell_type": "code",
   "execution_count": 27,
   "metadata": {},
   "outputs": [],
   "source": [
    "### Compiler\n",
    "seq.compile(optimizer=\"Adamax\",loss=\"mean_squared_error\",metrics = [\"mean_absolute_error\"])"
   ]
  },
  {
   "cell_type": "code",
   "execution_count": 28,
   "metadata": {},
   "outputs": [
    {
     "name": "stdout",
     "output_type": "stream",
     "text": [
      "Epoch 1/100\n",
      "81/81 [==============================] - 6s 4ms/step - loss: 29.5575 - mean_absolute_error: 5.3724 - val_loss: 21.1551 - val_mean_absolute_error: 4.4872\n",
      "Epoch 2/100\n",
      "81/81 [==============================] - 0s 1ms/step - loss: 16.0211 - mean_absolute_error: 3.8108 - val_loss: 6.5241 - val_mean_absolute_error: 2.2206\n",
      "Epoch 3/100\n",
      "81/81 [==============================] - 0s 924us/step - loss: 4.9449 - mean_absolute_error: 1.8789 - val_loss: 4.9226 - val_mean_absolute_error: 1.8866\n",
      "Epoch 4/100\n",
      "81/81 [==============================] - 0s 1ms/step - loss: 4.3387 - mean_absolute_error: 1.7244 - val_loss: 4.2700 - val_mean_absolute_error: 1.7426\n",
      "Epoch 5/100\n",
      "81/81 [==============================] - 0s 1ms/step - loss: 3.6129 - mean_absolute_error: 1.5618 - val_loss: 3.7249 - val_mean_absolute_error: 1.6230\n",
      "Epoch 6/100\n",
      "81/81 [==============================] - 0s 1ms/step - loss: 3.0457 - mean_absolute_error: 1.4131 - val_loss: 3.2057 - val_mean_absolute_error: 1.4988\n",
      "Epoch 7/100\n",
      "81/81 [==============================] - 0s 1ms/step - loss: 2.7753 - mean_absolute_error: 1.3674 - val_loss: 2.7134 - val_mean_absolute_error: 1.3681\n",
      "Epoch 8/100\n",
      "81/81 [==============================] - 0s 959us/step - loss: 2.2916 - mean_absolute_error: 1.2305 - val_loss: 2.2410 - val_mean_absolute_error: 1.2348\n",
      "Epoch 9/100\n",
      "81/81 [==============================] - 0s 1ms/step - loss: 1.7770 - mean_absolute_error: 1.0655 - val_loss: 1.8547 - val_mean_absolute_error: 1.1208\n",
      "Epoch 10/100\n",
      "81/81 [==============================] - 0s 1ms/step - loss: 1.5222 - mean_absolute_error: 0.9909 - val_loss: 1.5243 - val_mean_absolute_error: 1.0095\n",
      "Epoch 11/100\n",
      "81/81 [==============================] - 0s 1ms/step - loss: 1.2166 - mean_absolute_error: 0.8714 - val_loss: 1.2442 - val_mean_absolute_error: 0.9077\n",
      "Epoch 12/100\n",
      "81/81 [==============================] - 0s 1ms/step - loss: 1.0388 - mean_absolute_error: 0.8012 - val_loss: 1.0258 - val_mean_absolute_error: 0.8202\n",
      "Epoch 13/100\n",
      "81/81 [==============================] - 0s 991us/step - loss: 0.7863 - mean_absolute_error: 0.6969 - val_loss: 0.8669 - val_mean_absolute_error: 0.7494\n",
      "Epoch 14/100\n",
      "81/81 [==============================] - 0s 1ms/step - loss: 0.8615 - mean_absolute_error: 0.7274 - val_loss: 0.7675 - val_mean_absolute_error: 0.6997\n",
      "Epoch 15/100\n",
      "81/81 [==============================] - 0s 1ms/step - loss: 0.6411 - mean_absolute_error: 0.6196 - val_loss: 0.7069 - val_mean_absolute_error: 0.6664\n",
      "Epoch 16/100\n",
      "81/81 [==============================] - 0s 1ms/step - loss: 0.6771 - mean_absolute_error: 0.6273 - val_loss: 0.6696 - val_mean_absolute_error: 0.6475\n",
      "Epoch 17/100\n",
      "81/81 [==============================] - 0s 1ms/step - loss: 0.6869 - mean_absolute_error: 0.6305 - val_loss: 0.6500 - val_mean_absolute_error: 0.6383\n",
      "Epoch 18/100\n",
      "81/81 [==============================] - 0s 1ms/step - loss: 0.6326 - mean_absolute_error: 0.6090 - val_loss: 0.6362 - val_mean_absolute_error: 0.6294\n",
      "Epoch 19/100\n",
      "81/81 [==============================] - 0s 1ms/step - loss: 0.6115 - mean_absolute_error: 0.5963 - val_loss: 0.6281 - val_mean_absolute_error: 0.6258\n",
      "Epoch 20/100\n",
      "81/81 [==============================] - 0s 944us/step - loss: 0.6291 - mean_absolute_error: 0.6001 - val_loss: 0.6213 - val_mean_absolute_error: 0.6204\n",
      "Epoch 21/100\n",
      "81/81 [==============================] - 0s 972us/step - loss: 0.5971 - mean_absolute_error: 0.5934 - val_loss: 0.6206 - val_mean_absolute_error: 0.6194\n",
      "Epoch 22/100\n",
      "81/81 [==============================] - 0s 972us/step - loss: 0.5816 - mean_absolute_error: 0.5838 - val_loss: 0.6081 - val_mean_absolute_error: 0.6150\n",
      "Epoch 23/100\n",
      "81/81 [==============================] - 0s 963us/step - loss: 0.5810 - mean_absolute_error: 0.5921 - val_loss: 0.6055 - val_mean_absolute_error: 0.6132\n",
      "Epoch 24/100\n",
      "81/81 [==============================] - 0s 1ms/step - loss: 0.5946 - mean_absolute_error: 0.6049 - val_loss: 0.5979 - val_mean_absolute_error: 0.6125\n",
      "Epoch 25/100\n",
      "81/81 [==============================] - 0s 1ms/step - loss: 0.5942 - mean_absolute_error: 0.6010 - val_loss: 0.5937 - val_mean_absolute_error: 0.6090\n",
      "Epoch 26/100\n",
      "81/81 [==============================] - 0s 1ms/step - loss: 0.5586 - mean_absolute_error: 0.5838 - val_loss: 0.5933 - val_mean_absolute_error: 0.6117\n",
      "Epoch 27/100\n",
      "81/81 [==============================] - 0s 1ms/step - loss: 0.5737 - mean_absolute_error: 0.5978 - val_loss: 0.5875 - val_mean_absolute_error: 0.6084\n",
      "Epoch 28/100\n",
      "81/81 [==============================] - 0s 1ms/step - loss: 0.5279 - mean_absolute_error: 0.5513 - val_loss: 0.5874 - val_mean_absolute_error: 0.6104\n",
      "Epoch 29/100\n",
      "81/81 [==============================] - 0s 1ms/step - loss: 0.5804 - mean_absolute_error: 0.5673 - val_loss: 0.5927 - val_mean_absolute_error: 0.6163\n",
      "Epoch 30/100\n",
      "81/81 [==============================] - 0s 1ms/step - loss: 0.5757 - mean_absolute_error: 0.5996 - val_loss: 0.5808 - val_mean_absolute_error: 0.6021\n",
      "Epoch 31/100\n",
      "81/81 [==============================] - 0s 1ms/step - loss: 0.6238 - mean_absolute_error: 0.6105 - val_loss: 0.5834 - val_mean_absolute_error: 0.6018\n",
      "Epoch 32/100\n",
      "81/81 [==============================] - 0s 1ms/step - loss: 0.5627 - mean_absolute_error: 0.5853 - val_loss: 0.5741 - val_mean_absolute_error: 0.6054\n",
      "Epoch 33/100\n",
      "81/81 [==============================] - 0s 1ms/step - loss: 0.5305 - mean_absolute_error: 0.5722 - val_loss: 0.5688 - val_mean_absolute_error: 0.6002\n",
      "Epoch 34/100\n",
      "81/81 [==============================] - 0s 958us/step - loss: 0.5770 - mean_absolute_error: 0.5999 - val_loss: 0.5688 - val_mean_absolute_error: 0.5968\n",
      "Epoch 35/100\n",
      "81/81 [==============================] - 0s 1ms/step - loss: 0.5674 - mean_absolute_error: 0.5699 - val_loss: 0.5613 - val_mean_absolute_error: 0.5956\n",
      "Epoch 36/100\n",
      "81/81 [==============================] - 0s 1ms/step - loss: 0.5978 - mean_absolute_error: 0.6019 - val_loss: 0.5656 - val_mean_absolute_error: 0.5923\n",
      "Epoch 37/100\n",
      "81/81 [==============================] - 0s 1ms/step - loss: 0.5605 - mean_absolute_error: 0.5708 - val_loss: 0.5554 - val_mean_absolute_error: 0.5941\n",
      "Epoch 38/100\n",
      "81/81 [==============================] - 0s 1ms/step - loss: 0.5949 - mean_absolute_error: 0.5882 - val_loss: 0.5629 - val_mean_absolute_error: 0.5897\n",
      "Epoch 39/100\n",
      "81/81 [==============================] - 0s 961us/step - loss: 0.5441 - mean_absolute_error: 0.5644 - val_loss: 0.5522 - val_mean_absolute_error: 0.5944\n",
      "Epoch 40/100\n",
      "81/81 [==============================] - 0s 1ms/step - loss: 0.5678 - mean_absolute_error: 0.5786 - val_loss: 0.5459 - val_mean_absolute_error: 0.5873\n",
      "Epoch 41/100\n",
      "81/81 [==============================] - 0s 1ms/step - loss: 0.5124 - mean_absolute_error: 0.5684 - val_loss: 0.5525 - val_mean_absolute_error: 0.5857\n",
      "Epoch 42/100\n",
      "81/81 [==============================] - 0s 1ms/step - loss: 0.5657 - mean_absolute_error: 0.5719 - val_loss: 0.5445 - val_mean_absolute_error: 0.5907\n",
      "Epoch 43/100\n",
      "81/81 [==============================] - 0s 1ms/step - loss: 0.5759 - mean_absolute_error: 0.5860 - val_loss: 0.5406 - val_mean_absolute_error: 0.5864\n",
      "Epoch 44/100\n",
      "81/81 [==============================] - 0s 1ms/step - loss: 0.5586 - mean_absolute_error: 0.5838 - val_loss: 0.5389 - val_mean_absolute_error: 0.5842\n",
      "Epoch 45/100\n",
      "81/81 [==============================] - 0s 1ms/step - loss: 0.5601 - mean_absolute_error: 0.5817 - val_loss: 0.5373 - val_mean_absolute_error: 0.5853\n",
      "Epoch 46/100\n",
      "81/81 [==============================] - 0s 1ms/step - loss: 0.5666 - mean_absolute_error: 0.5774 - val_loss: 0.5365 - val_mean_absolute_error: 0.5802\n",
      "Epoch 47/100\n",
      "81/81 [==============================] - 0s 1ms/step - loss: 0.5778 - mean_absolute_error: 0.5810 - val_loss: 0.5313 - val_mean_absolute_error: 0.5823\n",
      "Epoch 48/100\n",
      "81/81 [==============================] - 0s 1ms/step - loss: 0.5582 - mean_absolute_error: 0.5801 - val_loss: 0.5340 - val_mean_absolute_error: 0.5783\n",
      "Epoch 49/100\n",
      "81/81 [==============================] - 0s 1ms/step - loss: 0.5246 - mean_absolute_error: 0.5508 - val_loss: 0.5268 - val_mean_absolute_error: 0.5780\n",
      "Epoch 50/100\n",
      "81/81 [==============================] - 0s 1ms/step - loss: 0.5632 - mean_absolute_error: 0.5755 - val_loss: 0.5283 - val_mean_absolute_error: 0.5830\n"
     ]
    },
    {
     "name": "stdout",
     "output_type": "stream",
     "text": [
      "Epoch 51/100\n",
      "81/81 [==============================] - 0s 1ms/step - loss: 0.5344 - mean_absolute_error: 0.5604 - val_loss: 0.5235 - val_mean_absolute_error: 0.5730\n",
      "Epoch 52/100\n",
      "81/81 [==============================] - 0s 1ms/step - loss: 0.5168 - mean_absolute_error: 0.5576 - val_loss: 0.5241 - val_mean_absolute_error: 0.5770\n",
      "Epoch 53/100\n",
      "81/81 [==============================] - 0s 1ms/step - loss: 0.4710 - mean_absolute_error: 0.5324 - val_loss: 0.5401 - val_mean_absolute_error: 0.5752\n",
      "Epoch 54/100\n",
      "81/81 [==============================] - 0s 1ms/step - loss: 0.5373 - mean_absolute_error: 0.5606 - val_loss: 0.5215 - val_mean_absolute_error: 0.5803\n",
      "Epoch 55/100\n",
      "81/81 [==============================] - 0s 1ms/step - loss: 0.5160 - mean_absolute_error: 0.5574 - val_loss: 0.5174 - val_mean_absolute_error: 0.5735\n",
      "Epoch 56/100\n",
      "81/81 [==============================] - 0s 1ms/step - loss: 0.4888 - mean_absolute_error: 0.5443 - val_loss: 0.5166 - val_mean_absolute_error: 0.5744\n",
      "Epoch 57/100\n",
      "81/81 [==============================] - 0s 1ms/step - loss: 0.6030 - mean_absolute_error: 0.5827 - val_loss: 0.5206 - val_mean_absolute_error: 0.5688\n",
      "Epoch 58/100\n",
      "81/81 [==============================] - 0s 1ms/step - loss: 0.5679 - mean_absolute_error: 0.5809 - val_loss: 0.5116 - val_mean_absolute_error: 0.5701\n",
      "Epoch 59/100\n",
      "81/81 [==============================] - 0s 1ms/step - loss: 0.4621 - mean_absolute_error: 0.5331 - val_loss: 0.5186 - val_mean_absolute_error: 0.5807\n",
      "Epoch 60/100\n",
      "81/81 [==============================] - 0s 948us/step - loss: 0.4586 - mean_absolute_error: 0.5323 - val_loss: 0.5160 - val_mean_absolute_error: 0.5683\n",
      "Epoch 61/100\n",
      "81/81 [==============================] - 0s 981us/step - loss: 0.5763 - mean_absolute_error: 0.5867 - val_loss: 0.5101 - val_mean_absolute_error: 0.5736\n",
      "Epoch 62/100\n",
      "81/81 [==============================] - 0s 1ms/step - loss: 0.5272 - mean_absolute_error: 0.5715 - val_loss: 0.5147 - val_mean_absolute_error: 0.5653\n",
      "Epoch 63/100\n",
      "81/81 [==============================] - 0s 1ms/step - loss: 0.4416 - mean_absolute_error: 0.5232 - val_loss: 0.5246 - val_mean_absolute_error: 0.5861\n",
      "Epoch 64/100\n",
      "81/81 [==============================] - 0s 1ms/step - loss: 0.4915 - mean_absolute_error: 0.5411 - val_loss: 0.5114 - val_mean_absolute_error: 0.5629\n",
      "Epoch 65/100\n",
      "81/81 [==============================] - 0s 991us/step - loss: 0.4972 - mean_absolute_error: 0.5517 - val_loss: 0.5117 - val_mean_absolute_error: 0.5635\n",
      "Epoch 66/100\n",
      "81/81 [==============================] - 0s 1ms/step - loss: 0.5671 - mean_absolute_error: 0.5815 - val_loss: 0.5122 - val_mean_absolute_error: 0.5616\n",
      "Epoch 67/100\n",
      "81/81 [==============================] - 0s 1ms/step - loss: 0.5694 - mean_absolute_error: 0.5665 - val_loss: 0.5043 - val_mean_absolute_error: 0.5659\n",
      "Epoch 68/100\n",
      "81/81 [==============================] - 0s 1ms/step - loss: 0.4966 - mean_absolute_error: 0.5576 - val_loss: 0.5018 - val_mean_absolute_error: 0.5689\n",
      "Epoch 69/100\n",
      "81/81 [==============================] - 0s 1ms/step - loss: 0.4790 - mean_absolute_error: 0.5485 - val_loss: 0.5048 - val_mean_absolute_error: 0.5637\n",
      "Epoch 70/100\n",
      "81/81 [==============================] - 0s 973us/step - loss: 0.4992 - mean_absolute_error: 0.5439 - val_loss: 0.5005 - val_mean_absolute_error: 0.5689\n",
      "Epoch 71/100\n",
      "81/81 [==============================] - 0s 1ms/step - loss: 0.5145 - mean_absolute_error: 0.5587 - val_loss: 0.5021 - val_mean_absolute_error: 0.5624\n",
      "Epoch 72/100\n",
      "81/81 [==============================] - 0s 1ms/step - loss: 0.5463 - mean_absolute_error: 0.5615 - val_loss: 0.4939 - val_mean_absolute_error: 0.5607\n",
      "Epoch 73/100\n",
      "81/81 [==============================] - 0s 1ms/step - loss: 0.5074 - mean_absolute_error: 0.5467 - val_loss: 0.4968 - val_mean_absolute_error: 0.5607\n",
      "Epoch 74/100\n",
      "81/81 [==============================] - 0s 1ms/step - loss: 0.5135 - mean_absolute_error: 0.5645 - val_loss: 0.4990 - val_mean_absolute_error: 0.5599\n",
      "Epoch 75/100\n",
      "81/81 [==============================] - 0s 1ms/step - loss: 0.5026 - mean_absolute_error: 0.5546 - val_loss: 0.4960 - val_mean_absolute_error: 0.5627\n",
      "Epoch 76/100\n",
      "81/81 [==============================] - 0s 1ms/step - loss: 0.5340 - mean_absolute_error: 0.5737 - val_loss: 0.4933 - val_mean_absolute_error: 0.5622\n",
      "Epoch 77/100\n",
      "81/81 [==============================] - 0s 1ms/step - loss: 0.4683 - mean_absolute_error: 0.5427 - val_loss: 0.5050 - val_mean_absolute_error: 0.5574\n",
      "Epoch 78/100\n",
      "81/81 [==============================] - 0s 1ms/step - loss: 0.5304 - mean_absolute_error: 0.5617 - val_loss: 0.4964 - val_mean_absolute_error: 0.5550\n",
      "Epoch 79/100\n",
      "81/81 [==============================] - 0s 1ms/step - loss: 0.5387 - mean_absolute_error: 0.5708 - val_loss: 0.4914 - val_mean_absolute_error: 0.5551\n",
      "Epoch 80/100\n",
      "81/81 [==============================] - 0s 1ms/step - loss: 0.5261 - mean_absolute_error: 0.5481 - val_loss: 0.4914 - val_mean_absolute_error: 0.5639\n",
      "Epoch 81/100\n",
      "81/81 [==============================] - 0s 1ms/step - loss: 0.5070 - mean_absolute_error: 0.5546 - val_loss: 0.4882 - val_mean_absolute_error: 0.5603\n",
      "Epoch 82/100\n",
      "81/81 [==============================] - 0s 1ms/step - loss: 0.5713 - mean_absolute_error: 0.5911 - val_loss: 0.4891 - val_mean_absolute_error: 0.5586\n",
      "Epoch 83/100\n",
      "81/81 [==============================] - 0s 929us/step - loss: 0.4865 - mean_absolute_error: 0.5465 - val_loss: 0.4961 - val_mean_absolute_error: 0.5531\n",
      "Epoch 84/100\n",
      "81/81 [==============================] - 0s 990us/step - loss: 0.5031 - mean_absolute_error: 0.5457 - val_loss: 0.4893 - val_mean_absolute_error: 0.5548\n",
      "Epoch 85/100\n",
      "81/81 [==============================] - 0s 988us/step - loss: 0.5096 - mean_absolute_error: 0.5510 - val_loss: 0.4857 - val_mean_absolute_error: 0.5591\n",
      "Epoch 86/100\n",
      "81/81 [==============================] - 0s 1ms/step - loss: 0.4778 - mean_absolute_error: 0.5380 - val_loss: 0.4919 - val_mean_absolute_error: 0.5522\n",
      "Epoch 87/100\n",
      "81/81 [==============================] - 0s 1ms/step - loss: 0.5309 - mean_absolute_error: 0.5636 - val_loss: 0.4851 - val_mean_absolute_error: 0.5557\n",
      "Epoch 88/100\n",
      "81/81 [==============================] - 0s 1ms/step - loss: 0.4780 - mean_absolute_error: 0.5440 - val_loss: 0.4930 - val_mean_absolute_error: 0.5511\n",
      "Epoch 89/100\n",
      "81/81 [==============================] - 0s 1ms/step - loss: 0.4825 - mean_absolute_error: 0.5423 - val_loss: 0.4822 - val_mean_absolute_error: 0.5579\n",
      "Epoch 90/100\n",
      "81/81 [==============================] - 0s 1ms/step - loss: 0.4603 - mean_absolute_error: 0.5355 - val_loss: 0.4842 - val_mean_absolute_error: 0.5521\n",
      "Epoch 91/100\n",
      "81/81 [==============================] - 0s 1ms/step - loss: 0.5086 - mean_absolute_error: 0.5627 - val_loss: 0.4823 - val_mean_absolute_error: 0.5518\n",
      "Epoch 92/100\n",
      "81/81 [==============================] - 0s 1ms/step - loss: 0.5782 - mean_absolute_error: 0.5902 - val_loss: 0.4788 - val_mean_absolute_error: 0.5533\n",
      "Epoch 93/100\n",
      "81/81 [==============================] - 0s 1ms/step - loss: 0.4812 - mean_absolute_error: 0.5297 - val_loss: 0.4906 - val_mean_absolute_error: 0.5494\n",
      "Epoch 94/100\n",
      "81/81 [==============================] - 0s 998us/step - loss: 0.5320 - mean_absolute_error: 0.5551 - val_loss: 0.4826 - val_mean_absolute_error: 0.5488\n",
      "Epoch 95/100\n",
      "81/81 [==============================] - 0s 1ms/step - loss: 0.5143 - mean_absolute_error: 0.5609 - val_loss: 0.4815 - val_mean_absolute_error: 0.5533\n",
      "Epoch 96/100\n",
      "81/81 [==============================] - 0s 970us/step - loss: 0.4544 - mean_absolute_error: 0.5282 - val_loss: 0.4841 - val_mean_absolute_error: 0.5504\n",
      "Epoch 97/100\n",
      "81/81 [==============================] - 0s 1ms/step - loss: 0.4963 - mean_absolute_error: 0.5433 - val_loss: 0.4869 - val_mean_absolute_error: 0.5488\n",
      "Epoch 98/100\n",
      "81/81 [==============================] - 0s 984us/step - loss: 0.4421 - mean_absolute_error: 0.5189 - val_loss: 0.4880 - val_mean_absolute_error: 0.5479\n",
      "Epoch 99/100\n",
      "81/81 [==============================] - 0s 1ms/step - loss: 0.5702 - mean_absolute_error: 0.5689 - val_loss: 0.4811 - val_mean_absolute_error: 0.5473\n",
      "Epoch 100/100\n",
      "81/81 [==============================] - 0s 1ms/step - loss: 0.5294 - mean_absolute_error: 0.5535 - val_loss: 0.4758 - val_mean_absolute_error: 0.5526\n"
     ]
    }
   ],
   "source": [
    "###Fitting ANN to the training Split\n",
    "model_history = seq.fit(x_train,y_train,validation_split=0.33,batch_size=10,epochs=100)"
   ]
  },
  {
   "cell_type": "code",
   "execution_count": 32,
   "metadata": {},
   "outputs": [
    {
     "name": "stdout",
     "output_type": "stream",
     "text": [
      "dict_keys(['loss', 'mean_absolute_error', 'val_loss', 'val_mean_absolute_error'])\n"
     ]
    },
    {
     "data": {
      "image/png": "[encoded data removed]",
      "text/plain": [
       "<Figure size 432x288 with 1 Axes>"
      ]
     },
     "metadata": {
      "needs_background": "light"
     },
     "output_type": "display_data"
    },
    {
     "data": {
      "image/png": "[encoded data removed]",
      "text/plain": [
       "<Figure size 432x288 with 1 Axes>"
      ]
     },
     "metadata": {
      "needs_background": "light"
     },
     "output_type": "display_data"
    }
   ],
   "source": [
    "print(model_history.history.keys())\n",
    "# summarize history for accuracy\n",
    "plt.plot(model_history.history['loss'])\n",
    "plt.plot(model_history.history['mean_absolute_error'])\n",
    "plt.title('model accuracy')\n",
    "plt.ylabel('accuracy')\n",
    "plt.xlabel('epoch')\n",
    "plt.legend(['train', 'test'], loc='upper left')\n",
    "plt.show()\n",
    "\n",
    "# summarize history for loss\n",
    "plt.plot(model_history.history['loss'])\n",
    "plt.plot(model_history.history['val_loss'])\n",
    "plt.title('model loss')\n",
    "plt.ylabel('loss')\n",
    "plt.xlabel('epoch')\n",
    "plt.legend(['train', 'test'], loc='upper left')\n",
    "plt.show()"
   ]
  },
  {
   "cell_type": "code",
   "execution_count": 33,
   "metadata": {},
   "outputs": [],
   "source": [
    "y_pred = seq.predict(x_test)"
   ]
  },
  {
   "cell_type": "code",
   "execution_count": null,
   "metadata": {},
   "outputs": [],
   "source": []
  },
  {
   "cell_type": "code",
   "execution_count": null,
   "metadata": {},
   "outputs": [],
   "source": []
  },
  {
   "cell_type": "code",
   "execution_count": null,
   "metadata": {},
   "outputs": [],
   "source": []
  }
 ],
 "metadata": {
  "kernelspec": {
   "display_name": "Python 3",
   "language": "python",
   "name": "python3"
  },
  "language_info": {
   "codemirror_mode": {
    "name": "ipython",
    "version": 3
   },
   "file_extension": ".py",
   "mimetype": "text/x-python",
   "name": "python",
   "nbconvert_exporter": "python",
   "pygments_lexer": "ipython3",
   "version": "3.8.5"
  }
 },
 "nbformat": 4,
 "nbformat_minor": 4
}
