{
 "cells": [
  {
   "cell_type": "code",
   "execution_count": 8,
   "metadata": {},
   "outputs": [],
   "source": [
    "# Importing Libraries\n",
    "import numpy as np\n",
    "import pandas as pd\n",
    "import matplotlib.pyplot as plt"
   ]
  },
  {
   "cell_type": "code",
   "execution_count": 2,
   "metadata": {},
   "outputs": [],
   "source": [
    "#Importing DataSet\n",
    "df = pd.read_csv(\"Churn_Modelling.csv\")"
   ]
  },
  {
   "cell_type": "code",
   "execution_count": 9,
   "metadata": {},
   "outputs": [],
   "source": [
    "#Declaring independend and dependend features\n",
    "x = df.iloc[:,3:13]\n",
    "y = df.iloc[:,13]"
   ]
  },
  {
   "cell_type": "code",
   "execution_count": 11,
   "metadata": {},
   "outputs": [],
   "source": [
    "#create dummies\n",
    "geography = pd.get_dummies(x[\"Geography\"],drop_first = True)\n",
    "gender = pd.get_dummies(x[\"Gender\"],drop_first = True)"
   ]
  },
  {
   "cell_type": "code",
   "execution_count": 17,
   "metadata": {},
   "outputs": [],
   "source": [
    "x = pd.concat([x,geography,gender],axis = 1)"
   ]
  },
  {
   "cell_type": "code",
   "execution_count": 21,
   "metadata": {},
   "outputs": [],
   "source": [
    "x.drop([\"Geography\",\"Gender\"],axis = 1,inplace = True)"
   ]
  },
  {
   "cell_type": "code",
   "execution_count": 23,
   "metadata": {},
   "outputs": [],
   "source": [
    "### Train Test Split\n",
    "from sklearn.model_selection import train_test_split\n",
    "x_train,x_test,y_train,y_test = train_test_split(x,y,random_state = 0,test_size = 0.2)"
   ]
  },
  {
   "cell_type": "code",
   "execution_count": 22,
   "metadata": {},
   "outputs": [],
   "source": [
    "### Feature Scaling"
   ]
  },
  {
   "cell_type": "code",
   "execution_count": 24,
   "metadata": {},
   "outputs": [
    {
     "data": {
      "text/plain": [
       "array([[-0.55204276, -0.36890377,  1.04473698, ...,  1.75486502,\n",
       "        -0.57369368, -1.09168714],\n",
       "       [-1.31490297,  0.10961719, -1.031415  , ..., -0.5698444 ,\n",
       "        -0.57369368, -1.09168714],\n",
       "       [ 0.57162971,  0.30102557,  1.04473698, ..., -0.5698444 ,\n",
       "         1.74309049, -1.09168714],\n",
       "       ...,\n",
       "       [-0.74791227, -0.27319958, -1.37744033, ..., -0.5698444 ,\n",
       "         1.74309049,  0.91601335],\n",
       "       [-0.00566991, -0.46460796, -0.33936434, ...,  1.75486502,\n",
       "        -0.57369368,  0.91601335],\n",
       "       [-0.79945688, -0.84742473,  1.04473698, ...,  1.75486502,\n",
       "        -0.57369368,  0.91601335]])"
      ]
     },
     "execution_count": 24,
     "metadata": {},
     "output_type": "execute_result"
    }
   ],
   "source": [
    "from sklearn.preprocessing import StandardScaler\n",
    "sc = StandardScaler()\n",
    "sc.fit_transform(x_train)\n",
    "sc.transform(x_test)"
   ]
  },
  {
   "cell_type": "code",
   "execution_count": 25,
   "metadata": {},
   "outputs": [],
   "source": [
    "#####\n"
   ]
  },
  {
   "cell_type": "code",
   "execution_count": 26,
   "metadata": {},
   "outputs": [],
   "source": [
    "##### ANN Libraries"
   ]
  },
  {
   "cell_type": "code",
   "execution_count": 29,
   "metadata": {},
   "outputs": [],
   "source": [
    "import keras\n",
    "from keras.models import Sequential\n",
    "from keras.layers import Dense\n",
    "from keras.layers import LeakyReLU,PReLU,ELU\n",
    "from keras.layers import Dropout"
   ]
  },
  {
   "cell_type": "code",
   "execution_count": 31,
   "metadata": {},
   "outputs": [],
   "source": [
    "###Initilazing ANN\n",
    "classifier = Sequential()"
   ]
  },
  {
   "cell_type": "code",
   "execution_count": 36,
   "metadata": {},
   "outputs": [],
   "source": [
    "### Adding Input Layer\n",
    "classifier.add(Dense(units = 6 , kernel_initializer = 'he_uniform',activation='relu',input_dim =11))"
   ]
  },
  {
   "cell_type": "code",
   "execution_count": 37,
   "metadata": {},
   "outputs": [],
   "source": [
    "### Adding Hidden Layer\n",
    "classifier.add(Dense(units = 6,kernel_initializer = 'he_uniform',activation = 'relu'))"
   ]
  },
  {
   "cell_type": "code",
   "execution_count": 38,
   "metadata": {},
   "outputs": [],
   "source": [
    "###Output Layer\n",
    "classifier.add(Dense(units=1,kernel_initializer = 'glorot_uniform',activation='sigmoid'))"
   ]
  },
  {
   "cell_type": "code",
   "execution_count": 44,
   "metadata": {},
   "outputs": [],
   "source": [
    "### Compiler\n",
    "classifier.compile(optimizer='Adamax',loss='binary_crossentropy',metrics =['accuracy'] )\n"
   ]
  },
  {
   "cell_type": "code",
   "execution_count": 45,
   "metadata": {},
   "outputs": [
    {
     "name": "stdout",
     "output_type": "stream",
     "text": [
      "Epoch 1/100\n",
      "536/536 [==============================] - 7s 2ms/step - loss: 9294.7346 - accuracy: 0.7459 - val_loss: 2239.8579 - val_accuracy: 0.6357\n",
      "Epoch 2/100\n",
      "536/536 [==============================] - 0s 922us/step - loss: 1533.8518 - accuracy: 0.5990 - val_loss: 748.0172 - val_accuracy: 0.5165\n",
      "Epoch 3/100\n",
      "536/536 [==============================] - 0s 919us/step - loss: 549.1531 - accuracy: 0.5255 - val_loss: 225.5012 - val_accuracy: 0.7637\n",
      "Epoch 4/100\n",
      "536/536 [==============================] - 1s 936us/step - loss: 144.8856 - accuracy: 0.7609 - val_loss: 27.7878 - val_accuracy: 0.6619\n",
      "Epoch 5/100\n",
      "536/536 [==============================] - 1s 969us/step - loss: 21.2607 - accuracy: 0.6937 - val_loss: 11.0011 - val_accuracy: 0.6660\n",
      "Epoch 6/100\n",
      "536/536 [==============================] - 1s 1ms/step - loss: 7.2754 - accuracy: 0.7378 - val_loss: 8.2427 - val_accuracy: 0.7902\n",
      "Epoch 7/100\n",
      "536/536 [==============================] - 1s 1ms/step - loss: 5.5517 - accuracy: 0.7533 - val_loss: 6.9670 - val_accuracy: 0.7925\n",
      "Epoch 8/100\n",
      "536/536 [==============================] - 1s 967us/step - loss: 5.2369 - accuracy: 0.7587 - val_loss: 4.4115 - val_accuracy: 0.7910\n",
      "Epoch 9/100\n",
      "536/536 [==============================] - 1s 1ms/step - loss: 2.9774 - accuracy: 0.7645 - val_loss: 5.2440 - val_accuracy: 0.7921\n",
      "Epoch 10/100\n",
      "536/536 [==============================] - 1s 962us/step - loss: 4.2383 - accuracy: 0.7588 - val_loss: 8.4476 - val_accuracy: 0.5403\n",
      "Epoch 11/100\n",
      "536/536 [==============================] - 1s 1ms/step - loss: 4.0536 - accuracy: 0.7536 - val_loss: 2.7455 - val_accuracy: 0.7921\n",
      "Epoch 12/100\n",
      "536/536 [==============================] - 1s 959us/step - loss: 3.0148 - accuracy: 0.7571 - val_loss: 4.7352 - val_accuracy: 0.5524\n",
      "Epoch 13/100\n",
      "536/536 [==============================] - 1s 1ms/step - loss: 2.5824 - accuracy: 0.7674 - val_loss: 4.3519 - val_accuracy: 0.7944\n",
      "Epoch 14/100\n",
      "536/536 [==============================] - 1s 956us/step - loss: 2.2945 - accuracy: 0.7613 - val_loss: 2.2278 - val_accuracy: 0.7944\n",
      "Epoch 15/100\n",
      "536/536 [==============================] - 1s 981us/step - loss: 1.7237 - accuracy: 0.7677 - val_loss: 3.7300 - val_accuracy: 0.5672\n",
      "Epoch 16/100\n",
      "536/536 [==============================] - 1s 1ms/step - loss: 2.3817 - accuracy: 0.7536 - val_loss: 2.2081 - val_accuracy: 0.7944\n",
      "Epoch 17/100\n",
      "536/536 [==============================] - 1s 1ms/step - loss: 3.0016 - accuracy: 0.7599 - val_loss: 1.4523 - val_accuracy: 0.7948\n",
      "Epoch 18/100\n",
      "536/536 [==============================] - 1s 989us/step - loss: 1.8738 - accuracy: 0.7737 - val_loss: 1.3875 - val_accuracy: 0.7933\n",
      "Epoch 19/100\n",
      "536/536 [==============================] - 1s 988us/step - loss: 2.0659 - accuracy: 0.7694 - val_loss: 2.5327 - val_accuracy: 0.7948\n",
      "Epoch 20/100\n",
      "536/536 [==============================] - 1s 997us/step - loss: 1.6987 - accuracy: 0.7817 - val_loss: 2.2758 - val_accuracy: 0.7948\n",
      "Epoch 21/100\n",
      "536/536 [==============================] - 1s 1ms/step - loss: 1.5391 - accuracy: 0.7681 - val_loss: 0.6319 - val_accuracy: 0.7444\n",
      "Epoch 22/100\n",
      "536/536 [==============================] - 1s 1ms/step - loss: 1.7529 - accuracy: 0.7676 - val_loss: 0.7584 - val_accuracy: 0.7955\n",
      "Epoch 23/100\n",
      "536/536 [==============================] - 1s 972us/step - loss: 1.7746 - accuracy: 0.7536 - val_loss: 0.5604 - val_accuracy: 0.7876\n",
      "Epoch 24/100\n",
      "536/536 [==============================] - 1s 1ms/step - loss: 1.4280 - accuracy: 0.7627 - val_loss: 0.6119 - val_accuracy: 0.7933\n",
      "Epoch 25/100\n",
      "536/536 [==============================] - 1s 1ms/step - loss: 1.2253 - accuracy: 0.7719 - val_loss: 1.5292 - val_accuracy: 0.7955\n",
      "Epoch 26/100\n",
      "536/536 [==============================] - 1s 980us/step - loss: 1.8108 - accuracy: 0.7540 - val_loss: 0.5824 - val_accuracy: 0.7838\n",
      "Epoch 27/100\n",
      "536/536 [==============================] - 1s 973us/step - loss: 1.2854 - accuracy: 0.7630 - val_loss: 0.7758 - val_accuracy: 0.7963\n",
      "Epoch 28/100\n",
      "536/536 [==============================] - 1s 1ms/step - loss: 1.1885 - accuracy: 0.7627 - val_loss: 1.3890 - val_accuracy: 0.7959\n",
      "Epoch 29/100\n",
      "536/536 [==============================] - 1s 1ms/step - loss: 1.2844 - accuracy: 0.7784 - val_loss: 0.6428 - val_accuracy: 0.7936\n",
      "Epoch 30/100\n",
      "536/536 [==============================] - 1s 1ms/step - loss: 1.4916 - accuracy: 0.7624 - val_loss: 0.6790 - val_accuracy: 0.7160\n",
      "Epoch 31/100\n",
      "536/536 [==============================] - 1s 1ms/step - loss: 1.0672 - accuracy: 0.7661 - val_loss: 0.6053 - val_accuracy: 0.7936\n",
      "Epoch 32/100\n",
      "536/536 [==============================] - 1s 961us/step - loss: 1.2487 - accuracy: 0.7618 - val_loss: 3.2887 - val_accuracy: 0.7959\n",
      "Epoch 33/100\n",
      "536/536 [==============================] - 1s 1ms/step - loss: 1.8686 - accuracy: 0.7592 - val_loss: 1.1652 - val_accuracy: 0.7963\n",
      "Epoch 34/100\n",
      "536/536 [==============================] - 1s 1ms/step - loss: 1.1518 - accuracy: 0.7835 - val_loss: 3.0562 - val_accuracy: 0.7959\n",
      "Epoch 35/100\n",
      "536/536 [==============================] - 1s 982us/step - loss: 1.4736 - accuracy: 0.7717 - val_loss: 0.9529 - val_accuracy: 0.5835\n",
      "Epoch 36/100\n",
      "536/536 [==============================] - 1s 964us/step - loss: 1.4127 - accuracy: 0.7599 - val_loss: 5.2990 - val_accuracy: 0.7959\n",
      "Epoch 37/100\n",
      "536/536 [==============================] - 1s 959us/step - loss: 1.6954 - accuracy: 0.7716 - val_loss: 1.4697 - val_accuracy: 0.7955\n",
      "Epoch 38/100\n",
      "536/536 [==============================] - 1s 964us/step - loss: 1.3115 - accuracy: 0.7703 - val_loss: 1.5988 - val_accuracy: 0.7955\n",
      "Epoch 39/100\n",
      "536/536 [==============================] - 1s 1ms/step - loss: 1.2878 - accuracy: 0.7737 - val_loss: 0.5839 - val_accuracy: 0.7846\n",
      "Epoch 40/100\n",
      "536/536 [==============================] - 1s 961us/step - loss: 1.3992 - accuracy: 0.7748 - val_loss: 1.4819 - val_accuracy: 0.7963\n",
      "Epoch 41/100\n",
      "536/536 [==============================] - 1s 988us/step - loss: 1.1537 - accuracy: 0.7690 - val_loss: 3.4249 - val_accuracy: 0.5559\n",
      "Epoch 42/100\n",
      "536/536 [==============================] - 1s 1ms/step - loss: 2.0975 - accuracy: 0.7572 - val_loss: 1.3073 - val_accuracy: 0.7959\n",
      "Epoch 43/100\n",
      "536/536 [==============================] - 1s 1ms/step - loss: 1.5819 - accuracy: 0.7442 - val_loss: 0.5539 - val_accuracy: 0.7880\n",
      "Epoch 44/100\n",
      "536/536 [==============================] - 1s 1ms/step - loss: 1.0457 - accuracy: 0.7689 - val_loss: 2.4959 - val_accuracy: 0.7959\n",
      "Epoch 45/100\n",
      "536/536 [==============================] - 1s 1ms/step - loss: 1.5971 - accuracy: 0.7719 - val_loss: 1.0269 - val_accuracy: 0.7967\n",
      "Epoch 46/100\n",
      "536/536 [==============================] - 1s 937us/step - loss: 1.6152 - accuracy: 0.7644 - val_loss: 0.6182 - val_accuracy: 0.7933\n",
      "Epoch 47/100\n",
      "536/536 [==============================] - 1s 984us/step - loss: 1.3526 - accuracy: 0.7786 - val_loss: 0.6396 - val_accuracy: 0.7959\n",
      "Epoch 48/100\n",
      "536/536 [==============================] - 1s 976us/step - loss: 1.5170 - accuracy: 0.7624 - val_loss: 0.5575 - val_accuracy: 0.7891\n",
      "Epoch 49/100\n",
      "536/536 [==============================] - 1s 1ms/step - loss: 1.4874 - accuracy: 0.7705 - val_loss: 1.4952 - val_accuracy: 0.7955\n",
      "Epoch 50/100\n",
      "536/536 [==============================] - 1s 1ms/step - loss: 1.4817 - accuracy: 0.7689 - val_loss: 2.7891 - val_accuracy: 0.5589\n",
      "Epoch 51/100\n",
      "536/536 [==============================] - 1s 990us/step - loss: 1.4302 - accuracy: 0.7644 - val_loss: 1.4229 - val_accuracy: 0.7963\n",
      "Epoch 52/100\n",
      "536/536 [==============================] - 1s 958us/step - loss: 1.5035 - accuracy: 0.7569 - val_loss: 0.7463 - val_accuracy: 0.7948\n",
      "Epoch 53/100\n",
      "536/536 [==============================] - 1s 967us/step - loss: 1.3517 - accuracy: 0.7702 - val_loss: 0.7314 - val_accuracy: 0.7955\n",
      "Epoch 54/100\n",
      "536/536 [==============================] - 1s 951us/step - loss: 1.1775 - accuracy: 0.7595 - val_loss: 0.5209 - val_accuracy: 0.7940\n",
      "Epoch 55/100\n",
      "536/536 [==============================] - 1s 974us/step - loss: 1.1926 - accuracy: 0.7693 - val_loss: 2.2999 - val_accuracy: 0.7959\n",
      "Epoch 56/100\n",
      "536/536 [==============================] - 1s 1ms/step - loss: 1.1202 - accuracy: 0.7737 - val_loss: 0.9054 - val_accuracy: 0.7967\n",
      "Epoch 57/100\n"
     ]
    },
    {
     "name": "stdout",
     "output_type": "stream",
     "text": [
      "536/536 [==============================] - 1s 995us/step - loss: 1.9097 - accuracy: 0.7638 - val_loss: 0.5655 - val_accuracy: 0.7929\n",
      "Epoch 58/100\n",
      "536/536 [==============================] - 1s 1ms/step - loss: 1.1402 - accuracy: 0.7759 - val_loss: 2.2300 - val_accuracy: 0.7955\n",
      "Epoch 59/100\n",
      "536/536 [==============================] - 1s 953us/step - loss: 1.4756 - accuracy: 0.7608 - val_loss: 0.8523 - val_accuracy: 0.7959\n",
      "Epoch 60/100\n",
      "536/536 [==============================] - 1s 973us/step - loss: 0.9265 - accuracy: 0.7763 - val_loss: 1.6226 - val_accuracy: 0.7959\n",
      "Epoch 61/100\n",
      "536/536 [==============================] - 1s 941us/step - loss: 1.1907 - accuracy: 0.7826 - val_loss: 0.6993 - val_accuracy: 0.7959\n",
      "Epoch 62/100\n",
      "536/536 [==============================] - 0s 918us/step - loss: 1.0924 - accuracy: 0.7753 - val_loss: 0.7199 - val_accuracy: 0.7963\n",
      "Epoch 63/100\n",
      "536/536 [==============================] - 0s 924us/step - loss: 1.5334 - accuracy: 0.7612 - val_loss: 2.2966 - val_accuracy: 0.7955\n",
      "Epoch 64/100\n",
      "536/536 [==============================] - 0s 914us/step - loss: 1.7532 - accuracy: 0.7681 - val_loss: 2.5660 - val_accuracy: 0.7959\n",
      "Epoch 65/100\n",
      "536/536 [==============================] - 1s 951us/step - loss: 2.1568 - accuracy: 0.7734 - val_loss: 0.6914 - val_accuracy: 0.6789\n",
      "Epoch 66/100\n",
      "536/536 [==============================] - 0s 904us/step - loss: 1.2681 - accuracy: 0.7628 - val_loss: 5.9082 - val_accuracy: 0.7959\n",
      "Epoch 67/100\n",
      "536/536 [==============================] - 1s 1ms/step - loss: 2.0150 - accuracy: 0.7680 - val_loss: 1.8267 - val_accuracy: 0.7959\n",
      "Epoch 68/100\n",
      "536/536 [==============================] - 1s 987us/step - loss: 1.4371 - accuracy: 0.7634 - val_loss: 0.6840 - val_accuracy: 0.6823\n",
      "Epoch 69/100\n",
      "536/536 [==============================] - 1s 984us/step - loss: 1.0323 - accuracy: 0.7694 - val_loss: 1.4212 - val_accuracy: 0.7959\n",
      "Epoch 70/100\n",
      "536/536 [==============================] - 1s 1ms/step - loss: 1.1505 - accuracy: 0.7685 - val_loss: 1.2719 - val_accuracy: 0.7963\n",
      "Epoch 71/100\n",
      "536/536 [==============================] - 1s 978us/step - loss: 1.3376 - accuracy: 0.7690 - val_loss: 0.9407 - val_accuracy: 0.7967\n",
      "Epoch 72/100\n",
      "536/536 [==============================] - 1s 986us/step - loss: 1.5963 - accuracy: 0.7622 - val_loss: 0.5268 - val_accuracy: 0.7933\n",
      "Epoch 73/100\n",
      "536/536 [==============================] - 0s 877us/step - loss: 1.1266 - accuracy: 0.7756 - val_loss: 0.5947 - val_accuracy: 0.7270\n",
      "Epoch 74/100\n",
      "536/536 [==============================] - 0s 869us/step - loss: 0.9957 - accuracy: 0.7732 - val_loss: 0.8050 - val_accuracy: 0.7963\n",
      "Epoch 75/100\n",
      "536/536 [==============================] - 0s 920us/step - loss: 1.4925 - accuracy: 0.7607 - val_loss: 0.5883 - val_accuracy: 0.7917\n",
      "Epoch 76/100\n",
      "536/536 [==============================] - 0s 897us/step - loss: 1.1201 - accuracy: 0.7622 - val_loss: 0.9280 - val_accuracy: 0.7963\n",
      "Epoch 77/100\n",
      "536/536 [==============================] - 0s 902us/step - loss: 1.3116 - accuracy: 0.7736 - val_loss: 2.2246 - val_accuracy: 0.7959\n",
      "Epoch 78/100\n",
      "536/536 [==============================] - 0s 929us/step - loss: 1.2197 - accuracy: 0.7753 - val_loss: 1.4872 - val_accuracy: 0.7959\n",
      "Epoch 79/100\n",
      "536/536 [==============================] - 1s 972us/step - loss: 1.3557 - accuracy: 0.7656 - val_loss: 1.2343 - val_accuracy: 0.7959\n",
      "Epoch 80/100\n",
      "536/536 [==============================] - 0s 896us/step - loss: 1.1589 - accuracy: 0.7686 - val_loss: 0.5187 - val_accuracy: 0.7959\n",
      "Epoch 81/100\n",
      "536/536 [==============================] - 0s 894us/step - loss: 1.1999 - accuracy: 0.7553 - val_loss: 2.6815 - val_accuracy: 0.7955\n",
      "Epoch 82/100\n",
      "536/536 [==============================] - 1s 1ms/step - loss: 1.4256 - accuracy: 0.7561 - val_loss: 1.7104 - val_accuracy: 0.5702\n",
      "Epoch 83/100\n",
      "536/536 [==============================] - 1s 964us/step - loss: 0.9847 - accuracy: 0.7678 - val_loss: 2.1951 - val_accuracy: 0.7955\n",
      "Epoch 84/100\n",
      "536/536 [==============================] - 1s 949us/step - loss: 0.8871 - accuracy: 0.7718 - val_loss: 0.6662 - val_accuracy: 0.7963\n",
      "Epoch 85/100\n",
      "536/536 [==============================] - 0s 856us/step - loss: 1.3311 - accuracy: 0.7643 - val_loss: 1.4887 - val_accuracy: 0.5827\n",
      "Epoch 86/100\n",
      "536/536 [==============================] - 0s 892us/step - loss: 1.0622 - accuracy: 0.7706 - val_loss: 1.1836 - val_accuracy: 0.7959\n",
      "Epoch 87/100\n",
      "536/536 [==============================] - 1s 967us/step - loss: 1.3406 - accuracy: 0.7594 - val_loss: 1.1551 - val_accuracy: 0.7955\n",
      "Epoch 88/100\n",
      "536/536 [==============================] - 1s 1ms/step - loss: 1.1884 - accuracy: 0.7628 - val_loss: 0.5070 - val_accuracy: 0.7944\n",
      "Epoch 89/100\n",
      "536/536 [==============================] - 1s 978us/step - loss: 1.1512 - accuracy: 0.7735 - val_loss: 0.5570 - val_accuracy: 0.7955\n",
      "Epoch 90/100\n",
      "536/536 [==============================] - 1s 1ms/step - loss: 1.7572 - accuracy: 0.7606 - val_loss: 0.9332 - val_accuracy: 0.7963\n",
      "Epoch 91/100\n",
      "536/536 [==============================] - 1s 1ms/step - loss: 1.2410 - accuracy: 0.7651 - val_loss: 0.5019 - val_accuracy: 0.7955\n",
      "Epoch 92/100\n",
      "536/536 [==============================] - 1s 955us/step - loss: 1.0973 - accuracy: 0.7614 - val_loss: 2.4113 - val_accuracy: 0.5638\n",
      "Epoch 93/100\n",
      "536/536 [==============================] - 1s 1ms/step - loss: 1.0961 - accuracy: 0.7690 - val_loss: 0.5072 - val_accuracy: 0.7955\n",
      "Epoch 94/100\n",
      "536/536 [==============================] - 1s 1ms/step - loss: 1.2330 - accuracy: 0.7766 - val_loss: 0.8572 - val_accuracy: 0.7963\n",
      "Epoch 95/100\n",
      "536/536 [==============================] - 1s 990us/step - loss: 1.4619 - accuracy: 0.7689 - val_loss: 0.5169 - val_accuracy: 0.7948\n",
      "Epoch 96/100\n",
      "536/536 [==============================] - 1s 1ms/step - loss: 1.1761 - accuracy: 0.7600 - val_loss: 2.7507 - val_accuracy: 0.5494\n",
      "Epoch 97/100\n",
      "536/536 [==============================] - 1s 1ms/step - loss: 1.2732 - accuracy: 0.7547 - val_loss: 0.5177 - val_accuracy: 0.7910\n",
      "Epoch 98/100\n",
      "536/536 [==============================] - 1s 1ms/step - loss: 0.9296 - accuracy: 0.7690 - val_loss: 1.8440 - val_accuracy: 0.7955\n",
      "Epoch 99/100\n",
      "536/536 [==============================] - 1s 997us/step - loss: 1.1944 - accuracy: 0.7766 - val_loss: 0.7442 - val_accuracy: 0.7959\n",
      "Epoch 100/100\n",
      "536/536 [==============================] - 1s 1ms/step - loss: 0.8789 - accuracy: 0.7783 - val_loss: 1.0880 - val_accuracy: 0.7959\n"
     ]
    }
   ],
   "source": [
    "##Fitting ANN to the training set\n",
    "model_history = classifier.fit(x_train,y_train,validation_split=0.33,batch_size = 10,epochs = 100)"
   ]
  },
  {
   "cell_type": "code",
   "execution_count": 47,
   "metadata": {},
   "outputs": [
    {
     "name": "stdout",
     "output_type": "stream",
     "text": [
      "dict_keys(['loss', 'accuracy', 'val_loss', 'val_accuracy'])\n"
     ]
    },
    {
     "data": {
      "image/png": "[encoded data removed]",
      "text/plain": [
       "<Figure size 432x288 with 1 Axes>"
      ]
     },
     "metadata": {
      "needs_background": "light"
     },
     "output_type": "display_data"
    },
    {
     "data": {
      "image/png": "[encoded data removed]",
      "text/plain": [
       "<Figure size 432x288 with 1 Axes>"
      ]
     },
     "metadata": {
      "needs_background": "light"
     },
     "output_type": "display_data"
    }
   ],
   "source": [
    "print(model_history.history.keys())\n",
    "# summarize history for accuracy\n",
    "plt.plot(model_history.history['accuracy'])\n",
    "plt.plot(model_history.history['val_accuracy'])\n",
    "plt.title('model accuracy')\n",
    "plt.ylabel('accuracy')\n",
    "plt.xlabel('epoch')\n",
    "plt.legend(['train', 'test'], loc='upper left')\n",
    "plt.show()\n",
    "\n",
    "# summarize history for loss\n",
    "plt.plot(model_history.history['loss'])\n",
    "plt.plot(model_history.history['val_loss'])\n",
    "plt.title('model loss')\n",
    "plt.ylabel('loss')\n",
    "plt.xlabel('epoch')\n",
    "plt.legend(['train', 'test'], loc='upper left')\n",
    "plt.show()"
   ]
  },
  {
   "cell_type": "code",
   "execution_count": 48,
   "metadata": {},
   "outputs": [],
   "source": [
    "### Making Predictions and Evolutions of the model"
   ]
  },
  {
   "cell_type": "code",
   "execution_count": 51,
   "metadata": {},
   "outputs": [],
   "source": [
    "y_pred = classifier.predict(x_test)\n",
    "y_pred = (y_pred > 0.5)"
   ]
  },
  {
   "cell_type": "code",
   "execution_count": 53,
   "metadata": {},
   "outputs": [],
   "source": [
    "###Confusion Matrix\n",
    "from sklearn.metrics import confusion_matrix\n",
    "cm = confusion_matrix(y_test,y_pred)"
   ]
  },
  {
   "cell_type": "code",
   "execution_count": 54,
   "metadata": {},
   "outputs": [
    {
     "data": {
      "text/plain": [
       "array([[1595,    0],\n",
       "       [ 403,    2]])"
      ]
     },
     "execution_count": 54,
     "metadata": {},
     "output_type": "execute_result"
    }
   ],
   "source": [
    "cm"
   ]
  },
  {
   "cell_type": "code",
   "execution_count": 55,
   "metadata": {},
   "outputs": [],
   "source": [
    "### Accuracy\n",
    "from sklearn.metrics import accuracy_score\n",
    "score = accuracy_score(y_pred,y_test)"
   ]
  },
  {
   "cell_type": "code",
   "execution_count": 56,
   "metadata": {},
   "outputs": [
    {
     "data": {
      "text/plain": [
       "0.7985"
      ]
     },
     "execution_count": 56,
     "metadata": {},
     "output_type": "execute_result"
    }
   ],
   "source": [
    "score"
   ]
  },
  {
   "cell_type": "code",
   "execution_count": null,
   "metadata": {},
   "outputs": [],
   "source": []
  }
 ],
 "metadata": {
  "kernelspec": {
   "display_name": "Python 3",
   "language": "python",
   "name": "python3"
  },
  "language_info": {
   "codemirror_mode": {
    "name": "ipython",
    "version": 3
   },
   "file_extension": ".py",
   "mimetype": "text/x-python",
   "name": "python",
   "nbconvert_exporter": "python",
   "pygments_lexer": "ipython3",
   "version": "3.8.5"
  }
 },
 "nbformat": 4,
 "nbformat_minor": 4
}
